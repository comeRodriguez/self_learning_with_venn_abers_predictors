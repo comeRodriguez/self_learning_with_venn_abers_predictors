{
 "cells": [
  {
   "cell_type": "markdown",
   "id": "d694ba7e",
   "metadata": {},
   "source": [
    "In this notebook we test the 2 differents custom logistic regression we've built in other notebooks for learning from credal labels and compare their performances with sklearn logistic regression and a logistic regression built with pytorch"
   ]
  },
  {
   "cell_type": "markdown",
   "id": "56e9ff68",
   "metadata": {},
   "source": [
    "# Import libraries"
   ]
  },
  {
   "cell_type": "code",
   "execution_count": 1,
   "id": "ea6a10e6",
   "metadata": {
    "ExecuteTime": {
     "end_time": "2022-10-17T21:18:08.965024Z",
     "start_time": "2022-10-17T21:18:01.786650Z"
    }
   },
   "outputs": [],
   "source": [
    "import sys\n",
    "sys.path.append('../python_code/')\n",
    "def warn(*args, **kwargs):\n",
    "    pass\n",
    "import warnings\n",
    "warnings.warn = warn\n",
    "\n",
    "import torch\n",
    "import torch.nn as nn\n",
    "import numpy as np\n",
    "import pandas as pd\n",
    "import matplotlib.pyplot as plt\n",
    "import seaborn as sns\n",
    "sns.set_style('white')\n",
    "sns.set_context(\"paper\", font_scale = 2)\n",
    "\n",
    "from sklearn.datasets import load_breast_cancer\n",
    "from sklearn.model_selection import train_test_split\n",
    "from sklearn.preprocessing import StandardScaler\n",
    "from sklearn.linear_model import LogisticRegression\n",
    "from sklearn.metrics import accuracy_score\n",
    "\n",
    "from custom_logistic_regression import CustomLogisticRegression\n",
    "from utils import get_accuracy\n",
    "\n",
    "import pingouin as pg"
   ]
  },
  {
   "cell_type": "markdown",
   "id": "38898ff0",
   "metadata": {},
   "source": [
    "## Creation of a function to transform hard labels into credal labels"
   ]
  },
  {
   "cell_type": "code",
   "execution_count": 2,
   "id": "b390d27f",
   "metadata": {
    "ExecuteTime": {
     "end_time": "2022-10-17T21:18:08.978525Z",
     "start_time": "2022-10-17T21:18:08.968671Z"
    }
   },
   "outputs": [],
   "source": [
    "def transform_to_interval_int(variable: int) -> np.ndarray:\n",
    "    \"\"\"\n",
    "    Transform a hard label into an interval of probabilities.\n",
    "    If the label is 0, the created interval will be in the range of\n",
    "    [0, 0.49], else it will be in the range of [0.5, 1]\n",
    "    \n",
    "    Args:\n",
    "        variable (int): variable to transform\n",
    "    \n",
    "    Returns:\n",
    "        (np.ndarray): created interval \n",
    "    \"\"\"\n",
    "    if variable == 0:\n",
    "        interval = np.sort(\n",
    "            np.round(\n",
    "                np.random.uniform(\n",
    "                    low=0.0,\n",
    "                    high=0.49,\n",
    "                    size=(2,)\n",
    "                ),\n",
    "                decimals=2\n",
    "            )\n",
    "        )\n",
    "    else:\n",
    "        interval = np.sort(\n",
    "            np.round(\n",
    "                np.random.uniform(\n",
    "                    low=0.5,\n",
    "                    high=1.0,\n",
    "                    size=(2,)\n",
    "                ),\n",
    "                decimals=2\n",
    "            )\n",
    "        )\n",
    "    return interval"
   ]
  },
  {
   "cell_type": "markdown",
   "id": "2ef690be",
   "metadata": {},
   "source": [
    "# Load data"
   ]
  },
  {
   "cell_type": "markdown",
   "id": "15c24381",
   "metadata": {},
   "source": [
    "To test our models and compare their performances, we use the UCI ML Breast Cancer Wisconsin data set"
   ]
  },
  {
   "cell_type": "code",
   "execution_count": 3,
   "id": "24bacf43",
   "metadata": {
    "ExecuteTime": {
     "end_time": "2022-10-17T21:18:09.035769Z",
     "start_time": "2022-10-17T21:18:08.985823Z"
    }
   },
   "outputs": [
    {
     "data": {
      "text/html": [
       "<div>\n",
       "<style scoped>\n",
       "    .dataframe tbody tr th:only-of-type {\n",
       "        vertical-align: middle;\n",
       "    }\n",
       "\n",
       "    .dataframe tbody tr th {\n",
       "        vertical-align: top;\n",
       "    }\n",
       "\n",
       "    .dataframe thead th {\n",
       "        text-align: right;\n",
       "    }\n",
       "</style>\n",
       "<table border=\"1\" class=\"dataframe\">\n",
       "  <thead>\n",
       "    <tr style=\"text-align: right;\">\n",
       "      <th></th>\n",
       "      <th>mean radius</th>\n",
       "      <th>mean texture</th>\n",
       "      <th>mean perimeter</th>\n",
       "      <th>mean area</th>\n",
       "      <th>mean smoothness</th>\n",
       "      <th>mean compactness</th>\n",
       "      <th>mean concavity</th>\n",
       "      <th>mean concave points</th>\n",
       "      <th>mean symmetry</th>\n",
       "      <th>mean fractal dimension</th>\n",
       "      <th>...</th>\n",
       "      <th>worst texture</th>\n",
       "      <th>worst perimeter</th>\n",
       "      <th>worst area</th>\n",
       "      <th>worst smoothness</th>\n",
       "      <th>worst compactness</th>\n",
       "      <th>worst concavity</th>\n",
       "      <th>worst concave points</th>\n",
       "      <th>worst symmetry</th>\n",
       "      <th>worst fractal dimension</th>\n",
       "      <th>target</th>\n",
       "    </tr>\n",
       "  </thead>\n",
       "  <tbody>\n",
       "    <tr>\n",
       "      <th>0</th>\n",
       "      <td>17.99</td>\n",
       "      <td>10.38</td>\n",
       "      <td>122.80</td>\n",
       "      <td>1001.0</td>\n",
       "      <td>0.11840</td>\n",
       "      <td>0.27760</td>\n",
       "      <td>0.3001</td>\n",
       "      <td>0.14710</td>\n",
       "      <td>0.2419</td>\n",
       "      <td>0.07871</td>\n",
       "      <td>...</td>\n",
       "      <td>17.33</td>\n",
       "      <td>184.60</td>\n",
       "      <td>2019.0</td>\n",
       "      <td>0.1622</td>\n",
       "      <td>0.6656</td>\n",
       "      <td>0.7119</td>\n",
       "      <td>0.2654</td>\n",
       "      <td>0.4601</td>\n",
       "      <td>0.11890</td>\n",
       "      <td>0</td>\n",
       "    </tr>\n",
       "    <tr>\n",
       "      <th>1</th>\n",
       "      <td>20.57</td>\n",
       "      <td>17.77</td>\n",
       "      <td>132.90</td>\n",
       "      <td>1326.0</td>\n",
       "      <td>0.08474</td>\n",
       "      <td>0.07864</td>\n",
       "      <td>0.0869</td>\n",
       "      <td>0.07017</td>\n",
       "      <td>0.1812</td>\n",
       "      <td>0.05667</td>\n",
       "      <td>...</td>\n",
       "      <td>23.41</td>\n",
       "      <td>158.80</td>\n",
       "      <td>1956.0</td>\n",
       "      <td>0.1238</td>\n",
       "      <td>0.1866</td>\n",
       "      <td>0.2416</td>\n",
       "      <td>0.1860</td>\n",
       "      <td>0.2750</td>\n",
       "      <td>0.08902</td>\n",
       "      <td>0</td>\n",
       "    </tr>\n",
       "    <tr>\n",
       "      <th>2</th>\n",
       "      <td>19.69</td>\n",
       "      <td>21.25</td>\n",
       "      <td>130.00</td>\n",
       "      <td>1203.0</td>\n",
       "      <td>0.10960</td>\n",
       "      <td>0.15990</td>\n",
       "      <td>0.1974</td>\n",
       "      <td>0.12790</td>\n",
       "      <td>0.2069</td>\n",
       "      <td>0.05999</td>\n",
       "      <td>...</td>\n",
       "      <td>25.53</td>\n",
       "      <td>152.50</td>\n",
       "      <td>1709.0</td>\n",
       "      <td>0.1444</td>\n",
       "      <td>0.4245</td>\n",
       "      <td>0.4504</td>\n",
       "      <td>0.2430</td>\n",
       "      <td>0.3613</td>\n",
       "      <td>0.08758</td>\n",
       "      <td>0</td>\n",
       "    </tr>\n",
       "    <tr>\n",
       "      <th>3</th>\n",
       "      <td>11.42</td>\n",
       "      <td>20.38</td>\n",
       "      <td>77.58</td>\n",
       "      <td>386.1</td>\n",
       "      <td>0.14250</td>\n",
       "      <td>0.28390</td>\n",
       "      <td>0.2414</td>\n",
       "      <td>0.10520</td>\n",
       "      <td>0.2597</td>\n",
       "      <td>0.09744</td>\n",
       "      <td>...</td>\n",
       "      <td>26.50</td>\n",
       "      <td>98.87</td>\n",
       "      <td>567.7</td>\n",
       "      <td>0.2098</td>\n",
       "      <td>0.8663</td>\n",
       "      <td>0.6869</td>\n",
       "      <td>0.2575</td>\n",
       "      <td>0.6638</td>\n",
       "      <td>0.17300</td>\n",
       "      <td>0</td>\n",
       "    </tr>\n",
       "    <tr>\n",
       "      <th>4</th>\n",
       "      <td>20.29</td>\n",
       "      <td>14.34</td>\n",
       "      <td>135.10</td>\n",
       "      <td>1297.0</td>\n",
       "      <td>0.10030</td>\n",
       "      <td>0.13280</td>\n",
       "      <td>0.1980</td>\n",
       "      <td>0.10430</td>\n",
       "      <td>0.1809</td>\n",
       "      <td>0.05883</td>\n",
       "      <td>...</td>\n",
       "      <td>16.67</td>\n",
       "      <td>152.20</td>\n",
       "      <td>1575.0</td>\n",
       "      <td>0.1374</td>\n",
       "      <td>0.2050</td>\n",
       "      <td>0.4000</td>\n",
       "      <td>0.1625</td>\n",
       "      <td>0.2364</td>\n",
       "      <td>0.07678</td>\n",
       "      <td>0</td>\n",
       "    </tr>\n",
       "  </tbody>\n",
       "</table>\n",
       "<p>5 rows × 31 columns</p>\n",
       "</div>"
      ],
      "text/plain": [
       "   mean radius  mean texture  mean perimeter  mean area  mean smoothness  \\\n",
       "0        17.99         10.38          122.80     1001.0          0.11840   \n",
       "1        20.57         17.77          132.90     1326.0          0.08474   \n",
       "2        19.69         21.25          130.00     1203.0          0.10960   \n",
       "3        11.42         20.38           77.58      386.1          0.14250   \n",
       "4        20.29         14.34          135.10     1297.0          0.10030   \n",
       "\n",
       "   mean compactness  mean concavity  mean concave points  mean symmetry  \\\n",
       "0           0.27760          0.3001              0.14710         0.2419   \n",
       "1           0.07864          0.0869              0.07017         0.1812   \n",
       "2           0.15990          0.1974              0.12790         0.2069   \n",
       "3           0.28390          0.2414              0.10520         0.2597   \n",
       "4           0.13280          0.1980              0.10430         0.1809   \n",
       "\n",
       "   mean fractal dimension  ...  worst texture  worst perimeter  worst area  \\\n",
       "0                 0.07871  ...          17.33           184.60      2019.0   \n",
       "1                 0.05667  ...          23.41           158.80      1956.0   \n",
       "2                 0.05999  ...          25.53           152.50      1709.0   \n",
       "3                 0.09744  ...          26.50            98.87       567.7   \n",
       "4                 0.05883  ...          16.67           152.20      1575.0   \n",
       "\n",
       "   worst smoothness  worst compactness  worst concavity  worst concave points  \\\n",
       "0            0.1622             0.6656           0.7119                0.2654   \n",
       "1            0.1238             0.1866           0.2416                0.1860   \n",
       "2            0.1444             0.4245           0.4504                0.2430   \n",
       "3            0.2098             0.8663           0.6869                0.2575   \n",
       "4            0.1374             0.2050           0.4000                0.1625   \n",
       "\n",
       "   worst symmetry  worst fractal dimension  target  \n",
       "0          0.4601                  0.11890       0  \n",
       "1          0.2750                  0.08902       0  \n",
       "2          0.3613                  0.08758       0  \n",
       "3          0.6638                  0.17300       0  \n",
       "4          0.2364                  0.07678       0  \n",
       "\n",
       "[5 rows x 31 columns]"
      ]
     },
     "execution_count": 3,
     "metadata": {},
     "output_type": "execute_result"
    }
   ],
   "source": [
    "data = load_breast_cancer(as_frame=True).frame\n",
    "data.head()"
   ]
  },
  {
   "cell_type": "code",
   "execution_count": 4,
   "id": "56a3c100",
   "metadata": {
    "ExecuteTime": {
     "end_time": "2022-10-17T21:18:09.085182Z",
     "start_time": "2022-10-17T21:18:09.038891Z"
    }
   },
   "outputs": [
    {
     "data": {
      "text/html": [
       "<div>\n",
       "<style scoped>\n",
       "    .dataframe tbody tr th:only-of-type {\n",
       "        vertical-align: middle;\n",
       "    }\n",
       "\n",
       "    .dataframe tbody tr th {\n",
       "        vertical-align: top;\n",
       "    }\n",
       "\n",
       "    .dataframe thead th {\n",
       "        text-align: right;\n",
       "    }\n",
       "</style>\n",
       "<table border=\"1\" class=\"dataframe\">\n",
       "  <thead>\n",
       "    <tr style=\"text-align: right;\">\n",
       "      <th></th>\n",
       "      <th>mean radius</th>\n",
       "      <th>mean texture</th>\n",
       "      <th>mean perimeter</th>\n",
       "      <th>mean area</th>\n",
       "      <th>mean smoothness</th>\n",
       "      <th>mean compactness</th>\n",
       "      <th>mean concavity</th>\n",
       "      <th>mean concave points</th>\n",
       "      <th>mean symmetry</th>\n",
       "      <th>mean fractal dimension</th>\n",
       "      <th>...</th>\n",
       "      <th>worst perimeter</th>\n",
       "      <th>worst area</th>\n",
       "      <th>worst smoothness</th>\n",
       "      <th>worst compactness</th>\n",
       "      <th>worst concavity</th>\n",
       "      <th>worst concave points</th>\n",
       "      <th>worst symmetry</th>\n",
       "      <th>worst fractal dimension</th>\n",
       "      <th>target</th>\n",
       "      <th>target_intervals</th>\n",
       "    </tr>\n",
       "  </thead>\n",
       "  <tbody>\n",
       "    <tr>\n",
       "      <th>0</th>\n",
       "      <td>17.99</td>\n",
       "      <td>10.38</td>\n",
       "      <td>122.80</td>\n",
       "      <td>1001.0</td>\n",
       "      <td>0.11840</td>\n",
       "      <td>0.27760</td>\n",
       "      <td>0.3001</td>\n",
       "      <td>0.14710</td>\n",
       "      <td>0.2419</td>\n",
       "      <td>0.07871</td>\n",
       "      <td>...</td>\n",
       "      <td>184.60</td>\n",
       "      <td>2019.0</td>\n",
       "      <td>0.1622</td>\n",
       "      <td>0.6656</td>\n",
       "      <td>0.7119</td>\n",
       "      <td>0.2654</td>\n",
       "      <td>0.4601</td>\n",
       "      <td>0.11890</td>\n",
       "      <td>0</td>\n",
       "      <td>[0.25, 0.33]</td>\n",
       "    </tr>\n",
       "    <tr>\n",
       "      <th>1</th>\n",
       "      <td>20.57</td>\n",
       "      <td>17.77</td>\n",
       "      <td>132.90</td>\n",
       "      <td>1326.0</td>\n",
       "      <td>0.08474</td>\n",
       "      <td>0.07864</td>\n",
       "      <td>0.0869</td>\n",
       "      <td>0.07017</td>\n",
       "      <td>0.1812</td>\n",
       "      <td>0.05667</td>\n",
       "      <td>...</td>\n",
       "      <td>158.80</td>\n",
       "      <td>1956.0</td>\n",
       "      <td>0.1238</td>\n",
       "      <td>0.1866</td>\n",
       "      <td>0.2416</td>\n",
       "      <td>0.1860</td>\n",
       "      <td>0.2750</td>\n",
       "      <td>0.08902</td>\n",
       "      <td>0</td>\n",
       "      <td>[0.31, 0.45]</td>\n",
       "    </tr>\n",
       "    <tr>\n",
       "      <th>2</th>\n",
       "      <td>19.69</td>\n",
       "      <td>21.25</td>\n",
       "      <td>130.00</td>\n",
       "      <td>1203.0</td>\n",
       "      <td>0.10960</td>\n",
       "      <td>0.15990</td>\n",
       "      <td>0.1974</td>\n",
       "      <td>0.12790</td>\n",
       "      <td>0.2069</td>\n",
       "      <td>0.05999</td>\n",
       "      <td>...</td>\n",
       "      <td>152.50</td>\n",
       "      <td>1709.0</td>\n",
       "      <td>0.1444</td>\n",
       "      <td>0.4245</td>\n",
       "      <td>0.4504</td>\n",
       "      <td>0.2430</td>\n",
       "      <td>0.3613</td>\n",
       "      <td>0.08758</td>\n",
       "      <td>0</td>\n",
       "      <td>[0.05, 0.24]</td>\n",
       "    </tr>\n",
       "    <tr>\n",
       "      <th>3</th>\n",
       "      <td>11.42</td>\n",
       "      <td>20.38</td>\n",
       "      <td>77.58</td>\n",
       "      <td>386.1</td>\n",
       "      <td>0.14250</td>\n",
       "      <td>0.28390</td>\n",
       "      <td>0.2414</td>\n",
       "      <td>0.10520</td>\n",
       "      <td>0.2597</td>\n",
       "      <td>0.09744</td>\n",
       "      <td>...</td>\n",
       "      <td>98.87</td>\n",
       "      <td>567.7</td>\n",
       "      <td>0.2098</td>\n",
       "      <td>0.8663</td>\n",
       "      <td>0.6869</td>\n",
       "      <td>0.2575</td>\n",
       "      <td>0.6638</td>\n",
       "      <td>0.17300</td>\n",
       "      <td>0</td>\n",
       "      <td>[0.46, 0.47]</td>\n",
       "    </tr>\n",
       "    <tr>\n",
       "      <th>4</th>\n",
       "      <td>20.29</td>\n",
       "      <td>14.34</td>\n",
       "      <td>135.10</td>\n",
       "      <td>1297.0</td>\n",
       "      <td>0.10030</td>\n",
       "      <td>0.13280</td>\n",
       "      <td>0.1980</td>\n",
       "      <td>0.10430</td>\n",
       "      <td>0.1809</td>\n",
       "      <td>0.05883</td>\n",
       "      <td>...</td>\n",
       "      <td>152.20</td>\n",
       "      <td>1575.0</td>\n",
       "      <td>0.1374</td>\n",
       "      <td>0.2050</td>\n",
       "      <td>0.4000</td>\n",
       "      <td>0.1625</td>\n",
       "      <td>0.2364</td>\n",
       "      <td>0.07678</td>\n",
       "      <td>0</td>\n",
       "      <td>[0.4, 0.47]</td>\n",
       "    </tr>\n",
       "  </tbody>\n",
       "</table>\n",
       "<p>5 rows × 32 columns</p>\n",
       "</div>"
      ],
      "text/plain": [
       "   mean radius  mean texture  mean perimeter  mean area  mean smoothness  \\\n",
       "0        17.99         10.38          122.80     1001.0          0.11840   \n",
       "1        20.57         17.77          132.90     1326.0          0.08474   \n",
       "2        19.69         21.25          130.00     1203.0          0.10960   \n",
       "3        11.42         20.38           77.58      386.1          0.14250   \n",
       "4        20.29         14.34          135.10     1297.0          0.10030   \n",
       "\n",
       "   mean compactness  mean concavity  mean concave points  mean symmetry  \\\n",
       "0           0.27760          0.3001              0.14710         0.2419   \n",
       "1           0.07864          0.0869              0.07017         0.1812   \n",
       "2           0.15990          0.1974              0.12790         0.2069   \n",
       "3           0.28390          0.2414              0.10520         0.2597   \n",
       "4           0.13280          0.1980              0.10430         0.1809   \n",
       "\n",
       "   mean fractal dimension  ...  worst perimeter  worst area  worst smoothness  \\\n",
       "0                 0.07871  ...           184.60      2019.0            0.1622   \n",
       "1                 0.05667  ...           158.80      1956.0            0.1238   \n",
       "2                 0.05999  ...           152.50      1709.0            0.1444   \n",
       "3                 0.09744  ...            98.87       567.7            0.2098   \n",
       "4                 0.05883  ...           152.20      1575.0            0.1374   \n",
       "\n",
       "   worst compactness  worst concavity  worst concave points  worst symmetry  \\\n",
       "0             0.6656           0.7119                0.2654          0.4601   \n",
       "1             0.1866           0.2416                0.1860          0.2750   \n",
       "2             0.4245           0.4504                0.2430          0.3613   \n",
       "3             0.8663           0.6869                0.2575          0.6638   \n",
       "4             0.2050           0.4000                0.1625          0.2364   \n",
       "\n",
       "   worst fractal dimension  target  target_intervals  \n",
       "0                  0.11890       0      [0.25, 0.33]  \n",
       "1                  0.08902       0      [0.31, 0.45]  \n",
       "2                  0.08758       0      [0.05, 0.24]  \n",
       "3                  0.17300       0      [0.46, 0.47]  \n",
       "4                  0.07678       0       [0.4, 0.47]  \n",
       "\n",
       "[5 rows x 32 columns]"
      ]
     },
     "execution_count": 4,
     "metadata": {},
     "output_type": "execute_result"
    }
   ],
   "source": [
    "data[\"target_intervals\"] = data[\"target\"].apply(transform_to_interval_int)\n",
    "data.head()"
   ]
  },
  {
   "cell_type": "markdown",
   "id": "876f0303",
   "metadata": {},
   "source": [
    "# Scaling data"
   ]
  },
  {
   "cell_type": "markdown",
   "id": "1bc7aea3",
   "metadata": {},
   "source": [
    "We scale the data to have less sparse weights in our model"
   ]
  },
  {
   "cell_type": "code",
   "execution_count": 49,
   "id": "b3915de8",
   "metadata": {
    "ExecuteTime": {
     "end_time": "2022-10-18T16:53:06.045119Z",
     "start_time": "2022-10-18T16:53:05.801638Z"
    }
   },
   "outputs": [
    {
     "data": {
      "text/html": [
       "<div>\n",
       "<style scoped>\n",
       "    .dataframe tbody tr th:only-of-type {\n",
       "        vertical-align: middle;\n",
       "    }\n",
       "\n",
       "    .dataframe tbody tr th {\n",
       "        vertical-align: top;\n",
       "    }\n",
       "\n",
       "    .dataframe thead th {\n",
       "        text-align: right;\n",
       "    }\n",
       "</style>\n",
       "<table border=\"1\" class=\"dataframe\">\n",
       "  <thead>\n",
       "    <tr style=\"text-align: right;\">\n",
       "      <th></th>\n",
       "      <th>mean radius</th>\n",
       "      <th>mean texture</th>\n",
       "      <th>mean perimeter</th>\n",
       "      <th>mean area</th>\n",
       "      <th>mean smoothness</th>\n",
       "      <th>mean compactness</th>\n",
       "      <th>mean concavity</th>\n",
       "      <th>mean concave points</th>\n",
       "      <th>mean symmetry</th>\n",
       "      <th>mean fractal dimension</th>\n",
       "      <th>...</th>\n",
       "      <th>worst radius</th>\n",
       "      <th>worst texture</th>\n",
       "      <th>worst perimeter</th>\n",
       "      <th>worst area</th>\n",
       "      <th>worst smoothness</th>\n",
       "      <th>worst compactness</th>\n",
       "      <th>worst concavity</th>\n",
       "      <th>worst concave points</th>\n",
       "      <th>worst symmetry</th>\n",
       "      <th>worst fractal dimension</th>\n",
       "    </tr>\n",
       "  </thead>\n",
       "  <tbody>\n",
       "    <tr>\n",
       "      <th>0</th>\n",
       "      <td>1.097064</td>\n",
       "      <td>-2.073335</td>\n",
       "      <td>1.269934</td>\n",
       "      <td>0.984375</td>\n",
       "      <td>1.568466</td>\n",
       "      <td>3.283515</td>\n",
       "      <td>2.652874</td>\n",
       "      <td>2.532475</td>\n",
       "      <td>2.217515</td>\n",
       "      <td>2.255747</td>\n",
       "      <td>...</td>\n",
       "      <td>1.886690</td>\n",
       "      <td>-1.359293</td>\n",
       "      <td>2.303601</td>\n",
       "      <td>2.001237</td>\n",
       "      <td>1.307686</td>\n",
       "      <td>2.616665</td>\n",
       "      <td>2.109526</td>\n",
       "      <td>2.296076</td>\n",
       "      <td>2.750622</td>\n",
       "      <td>1.937015</td>\n",
       "    </tr>\n",
       "    <tr>\n",
       "      <th>1</th>\n",
       "      <td>1.829821</td>\n",
       "      <td>-0.353632</td>\n",
       "      <td>1.685955</td>\n",
       "      <td>1.908708</td>\n",
       "      <td>-0.826962</td>\n",
       "      <td>-0.487072</td>\n",
       "      <td>-0.023846</td>\n",
       "      <td>0.548144</td>\n",
       "      <td>0.001392</td>\n",
       "      <td>-0.868652</td>\n",
       "      <td>...</td>\n",
       "      <td>1.805927</td>\n",
       "      <td>-0.369203</td>\n",
       "      <td>1.535126</td>\n",
       "      <td>1.890489</td>\n",
       "      <td>-0.375612</td>\n",
       "      <td>-0.430444</td>\n",
       "      <td>-0.146749</td>\n",
       "      <td>1.087084</td>\n",
       "      <td>-0.243890</td>\n",
       "      <td>0.281190</td>\n",
       "    </tr>\n",
       "    <tr>\n",
       "      <th>2</th>\n",
       "      <td>1.579888</td>\n",
       "      <td>0.456187</td>\n",
       "      <td>1.566503</td>\n",
       "      <td>1.558884</td>\n",
       "      <td>0.942210</td>\n",
       "      <td>1.052926</td>\n",
       "      <td>1.363478</td>\n",
       "      <td>2.037231</td>\n",
       "      <td>0.939685</td>\n",
       "      <td>-0.398008</td>\n",
       "      <td>...</td>\n",
       "      <td>1.511870</td>\n",
       "      <td>-0.023974</td>\n",
       "      <td>1.347475</td>\n",
       "      <td>1.456285</td>\n",
       "      <td>0.527407</td>\n",
       "      <td>1.082932</td>\n",
       "      <td>0.854974</td>\n",
       "      <td>1.955000</td>\n",
       "      <td>1.152255</td>\n",
       "      <td>0.201391</td>\n",
       "    </tr>\n",
       "    <tr>\n",
       "      <th>3</th>\n",
       "      <td>-0.768909</td>\n",
       "      <td>0.253732</td>\n",
       "      <td>-0.592687</td>\n",
       "      <td>-0.764464</td>\n",
       "      <td>3.283553</td>\n",
       "      <td>3.402909</td>\n",
       "      <td>1.915897</td>\n",
       "      <td>1.451707</td>\n",
       "      <td>2.867383</td>\n",
       "      <td>4.910919</td>\n",
       "      <td>...</td>\n",
       "      <td>-0.281464</td>\n",
       "      <td>0.133984</td>\n",
       "      <td>-0.249939</td>\n",
       "      <td>-0.550021</td>\n",
       "      <td>3.394275</td>\n",
       "      <td>3.893397</td>\n",
       "      <td>1.989588</td>\n",
       "      <td>2.175786</td>\n",
       "      <td>6.046041</td>\n",
       "      <td>4.935010</td>\n",
       "    </tr>\n",
       "    <tr>\n",
       "      <th>4</th>\n",
       "      <td>1.750297</td>\n",
       "      <td>-1.151816</td>\n",
       "      <td>1.776573</td>\n",
       "      <td>1.826229</td>\n",
       "      <td>0.280372</td>\n",
       "      <td>0.539340</td>\n",
       "      <td>1.371011</td>\n",
       "      <td>1.428493</td>\n",
       "      <td>-0.009560</td>\n",
       "      <td>-0.562450</td>\n",
       "      <td>...</td>\n",
       "      <td>1.298575</td>\n",
       "      <td>-1.466770</td>\n",
       "      <td>1.338539</td>\n",
       "      <td>1.220724</td>\n",
       "      <td>0.220556</td>\n",
       "      <td>-0.313395</td>\n",
       "      <td>0.613179</td>\n",
       "      <td>0.729259</td>\n",
       "      <td>-0.868353</td>\n",
       "      <td>-0.397100</td>\n",
       "    </tr>\n",
       "  </tbody>\n",
       "</table>\n",
       "<p>5 rows × 30 columns</p>\n",
       "</div>"
      ],
      "text/plain": [
       "   mean radius  mean texture  mean perimeter  mean area  mean smoothness  \\\n",
       "0     1.097064     -2.073335        1.269934   0.984375         1.568466   \n",
       "1     1.829821     -0.353632        1.685955   1.908708        -0.826962   \n",
       "2     1.579888      0.456187        1.566503   1.558884         0.942210   \n",
       "3    -0.768909      0.253732       -0.592687  -0.764464         3.283553   \n",
       "4     1.750297     -1.151816        1.776573   1.826229         0.280372   \n",
       "\n",
       "   mean compactness  mean concavity  mean concave points  mean symmetry  \\\n",
       "0          3.283515        2.652874             2.532475       2.217515   \n",
       "1         -0.487072       -0.023846             0.548144       0.001392   \n",
       "2          1.052926        1.363478             2.037231       0.939685   \n",
       "3          3.402909        1.915897             1.451707       2.867383   \n",
       "4          0.539340        1.371011             1.428493      -0.009560   \n",
       "\n",
       "   mean fractal dimension  ...  worst radius  worst texture  worst perimeter  \\\n",
       "0                2.255747  ...      1.886690      -1.359293         2.303601   \n",
       "1               -0.868652  ...      1.805927      -0.369203         1.535126   \n",
       "2               -0.398008  ...      1.511870      -0.023974         1.347475   \n",
       "3                4.910919  ...     -0.281464       0.133984        -0.249939   \n",
       "4               -0.562450  ...      1.298575      -1.466770         1.338539   \n",
       "\n",
       "   worst area  worst smoothness  worst compactness  worst concavity  \\\n",
       "0    2.001237          1.307686           2.616665         2.109526   \n",
       "1    1.890489         -0.375612          -0.430444        -0.146749   \n",
       "2    1.456285          0.527407           1.082932         0.854974   \n",
       "3   -0.550021          3.394275           3.893397         1.989588   \n",
       "4    1.220724          0.220556          -0.313395         0.613179   \n",
       "\n",
       "   worst concave points  worst symmetry  worst fractal dimension  \n",
       "0              2.296076        2.750622                 1.937015  \n",
       "1              1.087084       -0.243890                 0.281190  \n",
       "2              1.955000        1.152255                 0.201391  \n",
       "3              2.175786        6.046041                 4.935010  \n",
       "4              0.729259       -0.868353                -0.397100  \n",
       "\n",
       "[5 rows x 30 columns]"
      ]
     },
     "execution_count": 49,
     "metadata": {},
     "output_type": "execute_result"
    }
   ],
   "source": [
    "scale = StandardScaler()\n",
    "x_train = pd.DataFrame(\n",
    "    scale.fit_transform(data.drop([\"target\", \"target_intervals\"], axis=1)),\n",
    "    columns = data.drop([\"target\", \"target_intervals\"], axis=1).columns\n",
    ")\n",
    "x_train.head()"
   ]
  },
  {
   "cell_type": "markdown",
   "id": "669484f2",
   "metadata": {},
   "source": [
    "# With sklearn logistic regression with scaling"
   ]
  },
  {
   "cell_type": "code",
   "execution_count": 9,
   "id": "bc1192b9",
   "metadata": {
    "ExecuteTime": {
     "end_time": "2022-10-17T21:18:12.825972Z",
     "start_time": "2022-10-17T21:18:12.794348Z"
    }
   },
   "outputs": [
    {
     "data": {
      "text/plain": [
       "0.9876977152899824"
      ]
     },
     "execution_count": 9,
     "metadata": {},
     "output_type": "execute_result"
    }
   ],
   "source": [
    "lr = LogisticRegression(max_iter=200)\n",
    "lr.fit(x_train, data[\"target\"])\n",
    "predictions = lr.predict(x_train)\n",
    "accuracy_score(data[\"target\"], predictions)"
   ]
  },
  {
   "cell_type": "markdown",
   "id": "bb459a29",
   "metadata": {},
   "source": [
    "We obtained approximately 0.99 of train accuracy with the built-in sklearn logistic regression"
   ]
  },
  {
   "cell_type": "markdown",
   "id": "6992c6f1",
   "metadata": {},
   "source": [
    "# With custom logistic regression with scaling"
   ]
  },
  {
   "cell_type": "code",
   "execution_count": 10,
   "id": "00ab5954",
   "metadata": {
    "ExecuteTime": {
     "end_time": "2022-10-17T21:18:16.129884Z",
     "start_time": "2022-10-17T21:18:12.830989Z"
    }
   },
   "outputs": [
    {
     "data": {
      "text/plain": [
       "0.9806678383128296"
      ]
     },
     "execution_count": 10,
     "metadata": {},
     "output_type": "execute_result"
    }
   ],
   "source": [
    "lr3 = CustomLogisticRegression(number_iteration=200, learning_rate=0.0001)\n",
    "lr3.fit(x_train=x_train, y_train=data[\"target_intervals\"])\n",
    "lr3.accuracies[199]"
   ]
  },
  {
   "cell_type": "code",
   "execution_count": 11,
   "id": "eb53d7d1",
   "metadata": {
    "ExecuteTime": {
     "end_time": "2022-10-17T21:18:16.781974Z",
     "start_time": "2022-10-17T21:18:16.133109Z"
    }
   },
   "outputs": [
    {
     "data": {
      "image/png": "[encoded data removed]",
      "text/plain": [
       "<Figure size 1440x720 with 2 Axes>"
      ]
     },
     "metadata": {},
     "output_type": "display_data"
    }
   ],
   "source": [
    "_, axes = plt.subplots(1, 2, figsize=(20, 10))\n",
    "sns.lineplot(x=lr3.losses.keys(), y=lr3.losses.values(), ax=axes[0]).set(title=\"Loss\")\n",
    "sns.lineplot(x=lr3.accuracies.keys(), y=lr3.accuracies.values(), ax=axes[1]).set(title=\"Accuracy\")\n",
    "plt.show()"
   ]
  },
  {
   "cell_type": "markdown",
   "id": "1dceae73",
   "metadata": {},
   "source": [
    "We can see that with our custom logistic regression, we obtained a 0.98 train accuracy on the same dataset with credal labels. The performances seem to be quite similar"
   ]
  },
  {
   "cell_type": "markdown",
   "id": "ec5c3fce",
   "metadata": {},
   "source": [
    "# With classical logistic regression using PyTorch with scaling"
   ]
  },
  {
   "cell_type": "markdown",
   "id": "d86ef2c5",
   "metadata": {},
   "source": [
    "Now we use the pytorch library to build a logistic regression and see if we can build a logistic regression (and further deep neural networks) with the ability to learn from credal labels"
   ]
  },
  {
   "cell_type": "code",
   "execution_count": 50,
   "id": "5bd2ecf6",
   "metadata": {
    "ExecuteTime": {
     "end_time": "2022-10-18T16:57:09.290085Z",
     "start_time": "2022-10-18T16:57:09.277649Z"
    }
   },
   "outputs": [
    {
     "name": "stdout",
     "output_type": "stream",
     "text": [
      "Using cpu device\n"
     ]
    }
   ],
   "source": [
    "device = \"cuda\" if torch.cuda.is_available() else \"cpu\"\n",
    "print(f\"Using {device} device\")"
   ]
  },
  {
   "cell_type": "code",
   "execution_count": 13,
   "id": "86f4f2fd",
   "metadata": {
    "ExecuteTime": {
     "end_time": "2022-10-17T21:18:16.827216Z",
     "start_time": "2022-10-17T21:18:16.808648Z"
    }
   },
   "outputs": [],
   "source": [
    "class LogisticRegressionPytorch(torch.nn.Module):\n",
    "    def __init__(self, input_dim, output_dim, learning_rate):\n",
    "        super().__init__()\n",
    "        self.logistic = nn.Linear(input_dim, output_dim)\n",
    "        self.criterion = nn.BCELoss(reduction=\"mean\")\n",
    "        self.shape_parameters_estimated = torch.zeros(\n",
    "            input_dim, output_dim, dtype=torch.float32, requires_grad=True\n",
    "        )\n",
    "        self.optimizer = torch.optim.SGD(self.logistic.parameters(), lr=learning_rate)\n",
    "        self.losses = []\n",
    "        self.accuracies = []\n",
    "    \n",
    "    def forward(self, x_train):\n",
    "        outputs = self.logistic(x_train)\n",
    "        outputs = torch.sigmoid(outputs)\n",
    "        return outputs\n",
    "    \n",
    "    def fit(self, x_train, y_train, epochs=10):\n",
    "        for _ in range(epochs):\n",
    "            outputs = self(x_train)\n",
    "            loss = self.criterion(outputs, y_train.reshape(-1, 1))\n",
    "            self.losses.append(loss.detach().numpy())\n",
    "            self.accuracies.append(accuracy_score(\n",
    "                y_true=y_train, y_pred=outputs.reshape(-1).detach().numpy().round())\n",
    "            )\n",
    "            loss.backward()\n",
    "            self.optimizer.step()"
   ]
  },
  {
   "cell_type": "code",
   "execution_count": 14,
   "id": "1eb8105e",
   "metadata": {
    "ExecuteTime": {
     "end_time": "2022-10-17T21:18:16.994467Z",
     "start_time": "2022-10-17T21:18:16.831530Z"
    }
   },
   "outputs": [
    {
     "name": "stdout",
     "output_type": "stream",
     "text": [
      "LogisticRegressionPytorch(\n",
      "  (logistic): Linear(in_features=30, out_features=1, bias=True)\n",
      "  (criterion): BCELoss()\n",
      ")\n"
     ]
    }
   ],
   "source": [
    "epochs = 200\n",
    "input_dim = 30 \n",
    "output_dim = 1 # Single binary output \n",
    "learning_rate = 0.001\n",
    "\n",
    "X_train = torch.from_numpy(x_train.values.astype(np.float32))\n",
    "Y_train = torch.from_numpy(data[\"target\"].values.astype(np.float32))\n",
    "\n",
    "model = LogisticRegressionPytorch(input_dim,output_dim, learning_rate=learning_rate)\n",
    "print(model)\n",
    "model.fit(x_train=X_train, y_train=Y_train, epochs=epochs)"
   ]
  },
  {
   "cell_type": "code",
   "execution_count": 15,
   "id": "2b7b96b2",
   "metadata": {
    "ExecuteTime": {
     "end_time": "2022-10-17T21:18:17.505234Z",
     "start_time": "2022-10-17T21:18:16.997848Z"
    }
   },
   "outputs": [
    {
     "data": {
      "image/png": "[encoded data removed]",
      "text/plain": [
       "<Figure size 1440x360 with 2 Axes>"
      ]
     },
     "metadata": {},
     "output_type": "display_data"
    }
   ],
   "source": [
    "_, axes = plt.subplots(1, 2, figsize=(20, 5))\n",
    "sns.lineplot(x=[i for i in range(epochs)], y=[float(loss) for loss in model.losses], ax=axes[0]).set(title=\"Loss\")\n",
    "sns.lineplot(x=[i for i in range(epochs)], y=model.accuracies, ax=axes[1]).set(title=\"Accuracy\")\n",
    "plt.show()"
   ]
  },
  {
   "cell_type": "code",
   "execution_count": 16,
   "id": "0a53ac32",
   "metadata": {
    "ExecuteTime": {
     "end_time": "2022-10-17T21:18:17.517210Z",
     "start_time": "2022-10-17T21:18:17.508061Z"
    }
   },
   "outputs": [
    {
     "data": {
      "text/plain": [
       "0.9736379613356766"
      ]
     },
     "execution_count": 16,
     "metadata": {},
     "output_type": "execute_result"
    }
   ],
   "source": [
    "model.accuracies[-1]"
   ]
  },
  {
   "cell_type": "markdown",
   "id": "4326361c",
   "metadata": {},
   "source": [
    "# With custom logistic regression using PyTorch with scaling"
   ]
  },
  {
   "cell_type": "code",
   "execution_count": 17,
   "id": "1e186e58",
   "metadata": {
    "ExecuteTime": {
     "end_time": "2022-10-17T21:18:17.530222Z",
     "start_time": "2022-10-17T21:18:17.520274Z"
    }
   },
   "outputs": [],
   "source": [
    "def KLD_loss_intervals(y_true, y_pred):\n",
    "    y_true = torch.from_numpy(np.stack(y_true.values).astype(np.float32))\n",
    "    y_true_inf = y_true[:, 0].reshape(-1, 1)\n",
    "    y_true_sup = y_true[:, 1].reshape(-1, 1)\n",
    "    used_probas = torch.zeros(y_true.shape[0], 1)\n",
    "    used_probas[y_pred <= y_true_inf] = y_true_inf[y_pred <= y_true_inf]\n",
    "    used_probas[y_pred >= y_true_sup] = y_true_inf[y_pred >= y_true_sup]\n",
    "    used_probas[(y_pred >= y_true_inf) & (y_pred <= y_true_sup)\n",
    "                ] = y_pred[(y_pred >= y_true_inf) & (y_pred <= y_true_sup)]\n",
    "    kld = nn.KLDivLoss(reduction=\"batchmean\", log_target=False)\n",
    "    loss = kld(y_pred, used_probas) + kld(1-y_pred, 1-used_probas)\n",
    "    return loss"
   ]
  },
  {
   "cell_type": "code",
   "execution_count": 18,
   "id": "e69530dc",
   "metadata": {
    "ExecuteTime": {
     "end_time": "2022-10-17T21:18:17.543137Z",
     "start_time": "2022-10-17T21:18:17.532529Z"
    }
   },
   "outputs": [],
   "source": [
    "class CustomLogisticRegressionPytorch(torch.nn.Module):\n",
    "    def __init__(self, input_dim, output_dim, learning_rate):\n",
    "        super().__init__()\n",
    "        self.logistic = nn.Linear(input_dim, output_dim)\n",
    "        self.shape_parameters_estimated = torch.zeros(\n",
    "            input_dim, output_dim, dtype=torch.float32, requires_grad=True\n",
    "        )\n",
    "        self.optimizer = torch.optim.SGD(self.logistic.parameters(), lr=learning_rate)\n",
    "        self.losses = []\n",
    "        self.accuracies = []\n",
    "    \n",
    "    def forward(self, x_train):\n",
    "        outputs = self.logistic(x_train)\n",
    "        outputs = torch.sigmoid(outputs)\n",
    "        return outputs\n",
    "    \n",
    "    def fit(self, x_train, y_train, hypotetic_labels, epochs=10):\n",
    "        for _ in range(epochs):\n",
    "            outputs = self(x_train)\n",
    "            loss = KLD_loss_intervals(y_train, outputs)\n",
    "            self.losses.append(loss.detach().numpy())\n",
    "            self.accuracies.append(accuracy_score(\n",
    "                y_true=hypotetic_labels, y_pred=outputs.reshape(-1).detach().numpy().round())\n",
    "            )\n",
    "            loss.backward()\n",
    "            self.optimizer.step()"
   ]
  },
  {
   "cell_type": "code",
   "execution_count": 19,
   "id": "972e29f3",
   "metadata": {
    "ExecuteTime": {
     "end_time": "2022-10-17T21:18:17.986306Z",
     "start_time": "2022-10-17T21:18:17.547092Z"
    }
   },
   "outputs": [
    {
     "name": "stdout",
     "output_type": "stream",
     "text": [
      "CustomLogisticRegressionPytorch(\n",
      "  (logistic): Linear(in_features=30, out_features=1, bias=True)\n",
      ")\n"
     ]
    }
   ],
   "source": [
    "epochs = 200\n",
    "input_dim = 30 \n",
    "output_dim = 1 # Single binary output \n",
    "learning_rate = 0.1\n",
    "\n",
    "X_train = torch.from_numpy(x_train.values.astype(np.float32))\n",
    "Y_train = data[\"target_intervals\"]\n",
    "\n",
    "model = CustomLogisticRegressionPytorch(input_dim, output_dim, learning_rate=learning_rate)\n",
    "print(model)\n",
    "model.fit(x_train=X_train, y_train=Y_train, hypotetic_labels=data[\"target\"], epochs=epochs)"
   ]
  },
  {
   "cell_type": "code",
   "execution_count": 20,
   "id": "534e25e4",
   "metadata": {
    "ExecuteTime": {
     "end_time": "2022-10-17T21:18:18.494712Z",
     "start_time": "2022-10-17T21:18:17.988838Z"
    }
   },
   "outputs": [
    {
     "data": {
      "image/png": "[encoded data removed]",
      "text/plain": [
       "<Figure size 1440x360 with 2 Axes>"
      ]
     },
     "metadata": {},
     "output_type": "display_data"
    }
   ],
   "source": [
    "_, axes = plt.subplots(1, 2, figsize=(20, 5))\n",
    "sns.lineplot(x=[i for i in range(epochs)], y=[float(loss) for loss in model.losses], ax=axes[0]).set(title=\"Loss\")\n",
    "sns.lineplot(x=[i for i in range(epochs)], y=model.accuracies, ax=axes[1]).set(title=\"Accuracy\")\n",
    "plt.show()"
   ]
  },
  {
   "cell_type": "code",
   "execution_count": 21,
   "id": "2783cc75",
   "metadata": {
    "ExecuteTime": {
     "end_time": "2022-10-17T21:18:18.507125Z",
     "start_time": "2022-10-17T21:18:18.500795Z"
    }
   },
   "outputs": [
    {
     "data": {
      "text/plain": [
       "0.9648506151142355"
      ]
     },
     "execution_count": 21,
     "metadata": {},
     "output_type": "execute_result"
    }
   ],
   "source": [
    "model.accuracies[-1]"
   ]
  },
  {
   "cell_type": "code",
   "execution_count": 42,
   "id": "f86f731d",
   "metadata": {
    "ExecuteTime": {
     "end_time": "2022-10-17T21:25:15.161325Z",
     "start_time": "2022-10-17T21:24:42.911331Z"
    }
   },
   "outputs": [
    {
     "data": {
      "image/png": "[encoded data removed]",
      "text/plain": [
       "<Figure size 1440x720 with 1 Axes>"
      ]
     },
     "metadata": {},
     "output_type": "display_data"
    }
   ],
   "source": [
    "k_fold = 10\n",
    "accuracies = {\n",
    "    \"sklearn\": {},\n",
    "    \"custom\": {},\n",
    "    \"pytorch\": {},\n",
    "    \"pytorch_custom\": {},\n",
    "}\n",
    "fold = np.random.randint(0, 10, len(data))\n",
    "x_train[\"fold\"] = fold\n",
    "y_train = data[[\"target\", \"target_intervals\"]]\n",
    "y_train[\"fold\"] = fold\n",
    "for i in range(k_fold):\n",
    "    x_a = x_train[x_train[\"fold\"] != i].drop(\"fold\", axis=1)\n",
    "    y_a = y_train[y_train[\"fold\"] != i].drop(\"fold\", axis=1)\n",
    "    x_b = x_train[x_train[\"fold\"] == i].drop(\"fold\", axis=1)\n",
    "    y_b = y_train[y_train[\"fold\"] == i].drop(\"fold\", axis=1)\n",
    "    X_train_py = torch.from_numpy(x_a.values.astype(np.float32))\n",
    "    Y_train_py = torch.from_numpy(y_a[\"target\"].values.astype(np.float32))\n",
    "    X_train_pyc = torch.from_numpy(x_a.values.astype(np.float32))\n",
    "    Y_train_pyc = y_a[\"target_intervals\"]\n",
    "\n",
    "    lr_sklearn = LogisticRegression(max_iter=200)\n",
    "    lr_custom = CustomLogisticRegression(\n",
    "        number_iteration=200, learning_rate=0.0001)\n",
    "    lr_pytorch = LogisticRegressionPytorch(\n",
    "        input_dim=30, output_dim=1, learning_rate=0.1)\n",
    "    lr_pytorch_custom = CustomLogisticRegressionPytorch(\n",
    "        input_dim, output_dim, learning_rate=0.01)\n",
    "\n",
    "    lr_sklearn.fit(x_a, y_a[\"target\"])\n",
    "    lr_custom.fit(x_a, y_a[\"target_intervals\"])\n",
    "    lr_pytorch.fit(X_train_py, Y_train_py, epochs=200)\n",
    "    lr_pytorch_custom.fit(X_train_pyc, Y_train_pyc,\n",
    "                          hypotetic_labels=y_a[\"target\"], epochs=epochs)\n",
    "\n",
    "    pred_lr_sklearn = lr_sklearn.predict(x_b)\n",
    "    pred_lr_custom = np.round(lr_custom.predict(x_b)).reshape(-1)\n",
    "    pred_lr_pytorch = lr_pytorch.forward(torch.from_numpy(\n",
    "        x_b.values.astype(np.float32))).reshape(-1).detach().numpy().round()\n",
    "    pred_lr_pytorch_custom = lr_pytorch_custom.forward(torch.from_numpy(\n",
    "        x_b.values.astype(np.float32))).reshape(-1).detach().numpy().round()\n",
    "    \n",
    "    accuracies[\"sklearn\"][i] = accuracy_score(y_b[\"target\"], pred_lr_sklearn)\n",
    "    accuracies[\"custom\"][i] = accuracy_score(y_b[\"target\"], pred_lr_custom)\n",
    "    accuracies[\"pytorch\"][i] = accuracy_score(y_b[\"target\"], pred_lr_pytorch)\n",
    "    accuracies[\"pytorch_custom\"][i] = accuracy_score(y_b[\"target\"], pred_lr_pytorch_custom)\n",
    "acc = pd.DataFrame(accuracies)\n",
    "plt.figure(figsize=(20, 10))\n",
    "ax = sns.boxplot(x=pd.melt(acc)[\"variable\"], y=pd.melt(acc)[\"value\"])\n",
    "for i,box in enumerate(ax.artists):\n",
    "    box.set_edgecolor('black')\n",
    "    box.set_facecolor('grey')\n",
    "\n",
    "    # iterate over whiskers and median lines\n",
    "    for j in range(6*i,6*(i+1)):\n",
    "         ax.lines[j].set_color('black')\n",
    "plt.show()"
   ]
  },
  {
   "cell_type": "code",
   "execution_count": 43,
   "id": "42a3fd25",
   "metadata": {
    "ExecuteTime": {
     "end_time": "2022-10-17T21:25:29.794142Z",
     "start_time": "2022-10-17T21:25:29.765561Z"
    }
   },
   "outputs": [
    {
     "name": "stdout",
     "output_type": "stream",
     "text": [
      "     Source        SS  DF        MS         F     p-unc       np2\n",
      "0  variable  0.002064   3  0.000688  0.948914  0.427273  0.073281\n",
      "1    Within  0.026103  36  0.000725       NaN       NaN       NaN\n"
     ]
    }
   ],
   "source": [
    "aov = pg.anova(data=pd.melt(acc), dv='value', between='variable', detailed=True)\n",
    "print(aov)"
   ]
  },
  {
   "cell_type": "code",
   "execution_count": null,
   "id": "2291cc47",
   "metadata": {},
   "outputs": [],
   "source": []
  }
 ],
 "metadata": {
  "hide_input": false,
  "kernelspec": {
   "display_name": "Python 3 (ipykernel)",
   "language": "python",
   "name": "python3"
  },
  "language_info": {
   "codemirror_mode": {
    "name": "ipython",
    "version": 3
   },
   "file_extension": ".py",
   "mimetype": "text/x-python",
   "name": "python",
   "nbconvert_exporter": "python",
   "pygments_lexer": "ipython3",
   "version": "3.9.15"
  },
  "latex_envs": {
   "LaTeX_envs_menu_present": true,
   "autoclose": false,
   "autocomplete": true,
   "bibliofile": "biblio.bib",
   "cite_by": "apalike",
   "current_citInitial": 1,
   "eqLabelWithNumbers": true,
   "eqNumInitial": 1,
   "hotkeys": {
    "equation": "Ctrl-E",
    "itemize": "Ctrl-I"
   },
   "labels_anchors": false,
   "latex_user_defs": false,
   "report_style_numbering": false,
   "user_envs_cfg": false
  },
  "toc": {
   "base_numbering": 1,
   "nav_menu": {},
   "number_sections": true,
   "sideBar": true,
   "skip_h1_title": false,
   "title_cell": "Table of Contents",
   "title_sidebar": "Contents",
   "toc_cell": false,
   "toc_position": {},
   "toc_section_display": true,
   "toc_window_display": false
  },
  "varInspector": {
   "cols": {
    "lenName": 16,
    "lenType": 16,
    "lenVar": 40
   },
   "kernels_config": {
    "python": {
     "delete_cmd_postfix": "",
     "delete_cmd_prefix": "del ",
     "library": "var_list.py",
     "varRefreshCmd": "print(var_dic_list())"
    },
    "r": {
     "delete_cmd_postfix": ") ",
     "delete_cmd_prefix": "rm(",
     "library": "var_list.r",
     "varRefreshCmd": "cat(var_dic_list()) "
    }
   },
   "types_to_exclude": [
    "module",
    "function",
    "builtin_function_or_method",
    "instance",
    "_Feature"
   ],
   "window_display": false
  }
 },
 "nbformat": 4,
 "nbformat_minor": 5
}
